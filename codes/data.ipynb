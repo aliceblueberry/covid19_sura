{
 "cells": [
  {
   "cell_type": "code",
   "execution_count": 1,
   "metadata": {},
   "outputs": [],
   "source": [
    "import pandas as pd\n",
    "import matplotlib.pyplot as plt\n",
    "import numpy as np"
   ]
  },
  {
   "cell_type": "code",
   "execution_count": 2,
   "metadata": {},
   "outputs": [],
   "source": [
    "url = 'https://raw.githubusercontent.com/aliceblueberry/covid19_sura/master/flight%20data.csv'\n",
    "df = pd.read_csv(url)\n",
    "df = df.drop(df.columns[[1,2,3,4,5,7,8,9,10,12,13,14,15,16]], axis = 1)\n",
    "df = df.loc[df['PASSENGERS']>0]"
   ]
  },
  {
   "cell_type": "code",
   "execution_count": 3,
   "metadata": {},
   "outputs": [],
   "source": [
    "df = df.groupby(['ORIGIN_STATE_ABR', 'DEST_STATE_ABR']).sum().reset_index()\n",
    "df.to_csv('clean_flight.csv')"
   ]
  },
  {
   "cell_type": "code",
   "execution_count": 4,
   "metadata": {},
   "outputs": [
    {
     "data": {
      "image/png": "[encoded data removed]",
      "text/plain": [
       "<matplotlib.figure.Figure at 0x11924c470>"
      ]
     },
     "metadata": {},
     "output_type": "display_data"
    }
   ],
   "source": [
    "#show distribution of flight distribution across states in March 2020\n",
    "plt.hist(df[df['PASSENGERS']<100000]['PASSENGERS'], bins = 100)\n",
    "plt.show()"
   ]
  },
  {
   "cell_type": "code",
   "execution_count": 5,
   "metadata": {},
   "outputs": [],
   "source": [
    "def normalize(c):\n",
    "    upper = c.max()\n",
    "    lower = c.min()\n",
    "    y = (c - lower)/(upper-lower)\n",
    "    return y"
   ]
  },
  {
   "cell_type": "code",
   "execution_count": 6,
   "metadata": {},
   "outputs": [],
   "source": [
    "df_normalized = df.copy()\n",
    "df_normalized['PASSENGERS'] = normalize(np.log(df_normalized['PASSENGERS']))\n",
    "df_normalized = df_normalized.rename(columns={'PASSENGERS': 'PASSENGERS_NORMALIZED'})"
   ]
  },
  {
   "cell_type": "code",
   "execution_count": 7,
   "metadata": {},
   "outputs": [
    {
     "data": {
      "image/png": "[encoded data removed]",
      "text/plain": [
       "<matplotlib.figure.Figure at 0x10d7870b8>"
      ]
     },
     "metadata": {},
     "output_type": "display_data"
    }
   ],
   "source": [
    "plt.hist(df_normalized['PASSENGERS_NORMALIZED'], bins = 100)\n",
    "plt.show()"
   ]
  },
  {
   "cell_type": "code",
   "execution_count": 78,
   "metadata": {},
   "outputs": [],
   "source": [
    "#April case data: positive, negative, total test results.\n",
    "url = 'https://raw.githubusercontent.com/aliceblueberry/covid19_sura/master/data/case_data_apr.csv'\n",
    "df_t = pd.read_csv(url)\n",
    "df_t = df_t.set_index('state')\n",
    "df_t.drop(['AS','DC','GU','MP','VI'], inplace = True)"
   ]
  },
  {
   "cell_type": "code",
   "execution_count": 4,
   "metadata": {},
   "outputs": [],
   "source": [
    "#df_pos = df_t[df_t.columns[0:2]]\n",
    "#dict?\n",
    "#pos = df_pos.to_dict()"
   ]
  },
  {
   "cell_type": "code",
   "execution_count": 75,
   "metadata": {},
   "outputs": [],
   "source": [
    "#feature: positive rate in testing\n",
    "df_t['pos_rate_sample'] = df_t['positive'].div(df_t['totalTestResults'].values, axis = 0)"
   ]
  },
  {
   "cell_type": "code",
   "execution_count": 25,
   "metadata": {},
   "outputs": [],
   "source": [
    "#population\n",
    "url = 'https://raw.githubusercontent.com/aliceblueberry/covid19_sura/master/state_population_19.csv'\n",
    "df_p = pd.read_csv(url)\n",
    "#feature: population of states\n",
    "df_p = df_p.drop(['States'], axis = 1)\n",
    "df_p = df_p.dropna()\n",
    "df_p.sort_values('Abr', axis = 0, ascending = True, inplace = True)\n",
    "#reindex\n",
    "df_p.drop(df_p.loc[df_p['Abr']=='DC'].index, inplace=True)\n",
    "state_list = df_p['Abr'].tolist()"
   ]
  },
  {
   "cell_type": "code",
   "execution_count": 26,
   "metadata": {},
   "outputs": [],
   "source": [
    "#string to int\n",
    "df_p['Population'] = df_p['Population'].str.replace(\",\",\"\")\n",
    "df_p['Population'] = pd.to_numeric(df_p['Population'])"
   ]
  },
  {
   "cell_type": "code",
   "execution_count": 80,
   "metadata": {},
   "outputs": [
    {
     "name": "stdout",
     "output_type": "stream",
     "text": [
      "{'infect_rate': {'AK': 48.52743166859182, 'AL': 143.15184925716653, 'AR': 107.85988752085953, 'AZ': 105.07346280944842, 'CA': 123.80219660128968, 'CO': 256.27151513804415, 'CT': 776.9360503095543, 'DE': 486.15475618322307, 'FL': 156.8601012294731, 'GA': 246.34037845153196, 'HI': 43.294874112914165, 'IA': 226.46090261071862, 'ID': 111.02002445350337, 'IL': 417.60375245199566, 'IN': 264.92008058561373, 'KS': 145.47007291352733, 'KY': 101.59651344223268, 'LA': 602.3282597594128, 'MA': 902.5023275289108, 'MD': 359.62869354646625, 'ME': 81.46036488292025, 'MI': 475.675179888928, 'MN': 143.91009909866457, 'MO': 123.21122137807563, 'MS': 228.98719116549609, 'MT': 42.38485447866629, 'NC': 100.19942632038415, 'ND': 140.0148544344161, 'NE': 195.61540274854113, 'NH': 151.0615123360773, 'NJ': 1335.8417237190379, 'NM': 153.23137938286814, 'NV': 162.26450868072916, 'NY': 1564.608145521532, 'OH': 154.22059867740032, 'OK': 91.43357381188794, 'OR': 59.51058589001637, 'PA': 357.4678903411025, 'PR': 48.18871188034921, 'RI': 813.7924654579507, 'SC': 118.37907485247771, 'SD': 276.8298293466748, 'TN': 157.1932418181174, 'TX': 96.86548237661756, 'UT': 145.7286714298815, 'VA': 185.64776201658037, 'VT': 140.86786786305527, 'WA': 214.1724118776193, 'WI': 138.29267965940016, 'WV': 62.38327547907622, 'WY': 93.99421866441818}}\n"
     ]
    }
   ],
   "source": [
    "#april infection rate: cases per 100,000 people, later as label\n",
    "april = df_t.drop(['positive','negative','totalTestResults'], axis = 1)\n",
    "april['infect_rate'] = df_t['positive'].div(df_p['Population'].values, axis = 0)*100000\n",
    "april = april.to_dict()"
   ]
  },
  {
   "cell_type": "code",
   "execution_count": 39,
   "metadata": {},
   "outputs": [],
   "source": [
    "#march case data, as parameter\n",
    "url = 'https://raw.githubusercontent.com/aliceblueberry/covid19_sura/master/case_data_march.xlsx'\n",
    "march = pd.read_excel(url)\n",
    "march = march.set_index('state')\n",
    "march = march.drop(['date'], axis=1)\n",
    "march.drop(['AS','DC','GU','MP','VI'], inplace = True)\n",
    "march['infect_rate'] = march['positive'].div(df_p['Population'].values, axis = 0)*100000"
   ]
  },
  {
   "cell_type": "code",
   "execution_count": 42,
   "metadata": {},
   "outputs": [],
   "source": [
    "#weekly increase of cases in last 2 weeks of March\n",
    "url = 'https://raw.githubusercontent.com/aliceblueberry/covid19_sura/master/data/march_weekly.csv'\n",
    "march_weekly = pd.read_csv(url)\n",
    "march_weekly = march_weekly.set_index('state')\n",
    "march_weekly.drop(['AS','DC','GU','MP','VI'], inplace = True)\n",
    "march_weekly['positive'] = march_weekly['positive'].astype(int)"
   ]
  },
  {
   "cell_type": "code",
   "execution_count": 43,
   "metadata": {},
   "outputs": [],
   "source": [
    "week1 = march_weekly[march_weekly['date'] == 20200317]\n",
    "week2 = march_weekly[march_weekly['date'] == 20200324]\n",
    "week3 = march_weekly[march_weekly['date'] == 20200331]"
   ]
  },
  {
   "cell_type": "code",
   "execution_count": 44,
   "metadata": {},
   "outputs": [],
   "source": [
    "d1 = []\n",
    "for i in range(week1.shape[0]):\n",
    "    d1.append(week2['positive'][i]-week1['positive'][i])\n",
    "diff1 = np.array(d1)"
   ]
  },
  {
   "cell_type": "code",
   "execution_count": 45,
   "metadata": {},
   "outputs": [],
   "source": [
    "d2 = []\n",
    "for i in range(week2.shape[0]):\n",
    "    d2.append(week3['positive'][i]-week2['positive'][i])\n",
    "diff2 = np.array(d2)"
   ]
  },
  {
   "cell_type": "code",
   "execution_count": 46,
   "metadata": {},
   "outputs": [],
   "source": [
    "#features collection\n",
    "features = pd.DataFrame(columns = ['state', 'infect_rate_march','march_inc_1','march_inc_2','pos_rate_sample'])"
   ]
  },
  {
   "cell_type": "code",
   "execution_count": 76,
   "metadata": {},
   "outputs": [],
   "source": [
    "#state: list of all states\n",
    "features['state'] = df_p['Abr'].values\n",
    "#infect_rate_march: number of people infected covid-19 per 100,000 people in all states, by the end of March.\n",
    "features['infect_rate_march'] = march['infect_rate'].values\n",
    "#march_inc_1, march_inc_2: number of new infected people from March 17-24, March 24-31, respectively/\n",
    "features['march_inc_1'] = diff1\n",
    "features['march_inc_2'] = diff2\n",
    "#pos_rate_sample: The ratio between positive cases and total # of people tested, by the end of April.\n",
    "features['pos_rate_sample'] = df_t['pos_rate_sample'].values"
   ]
  },
  {
   "cell_type": "code",
   "execution_count": null,
   "metadata": {},
   "outputs": [],
   "source": []
  }
 ],
 "metadata": {
  "kernelspec": {
   "display_name": "Python 3",
   "language": "python",
   "name": "python3"
  },
  "language_info": {
   "codemirror_mode": {
    "name": "ipython",
    "version": 3
   },
   "file_extension": ".py",
   "mimetype": "text/x-python",
   "name": "python",
   "nbconvert_exporter": "python",
   "pygments_lexer": "ipython3",
   "version": "3.6.4"
  }
 },
 "nbformat": 4,
 "nbformat_minor": 2
}
