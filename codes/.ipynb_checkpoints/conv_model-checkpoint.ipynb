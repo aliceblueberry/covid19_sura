{
 "cells": [
  {
   "cell_type": "code",
   "execution_count": 1,
   "metadata": {},
   "outputs": [
    {
     "name": "stderr",
     "output_type": "stream",
     "text": [
      "/anaconda3/lib/python3.6/site-packages/h5py/__init__.py:36: FutureWarning: Conversion of the second argument of issubdtype from `float` to `np.floating` is deprecated. In future, it will be treated as `np.float64 == np.dtype(float).type`.\n",
      "  from ._conv import register_converters as _register_converters\n"
     ]
    }
   ],
   "source": [
    "from spektral.layers import GraphConv\n",
    "from tensorflow.keras.models import Model\n",
    "from tensorflow.keras.layers import Input, Dropout\n",
    "import import_ipynb"
   ]
  },
  {
   "cell_type": "code",
   "execution_count": 2,
   "metadata": {},
   "outputs": [],
   "source": [
    "from tensorflow.keras.callbacks import EarlyStopping"
   ]
  },
  {
   "cell_type": "code",
   "execution_count": 3,
   "metadata": {},
   "outputs": [],
   "source": [
    "import numpy as np\n",
    "from tensorflow.keras.layers import Input, Dense\n",
    "from tensorflow.keras.models import Model\n",
    "from tensorflow.keras.optimizers import Adam"
   ]
  },
  {
   "cell_type": "code",
   "execution_count": 4,
   "metadata": {},
   "outputs": [],
   "source": [
    "import numpy as np\n",
    "from scipy import sparse"
   ]
  },
  {
   "cell_type": "code",
   "execution_count": 5,
   "metadata": {},
   "outputs": [
    {
     "name": "stdout",
     "output_type": "stream",
     "text": [
      "importing Jupyter notebook from flight_network.ipynb\n",
      "importing Jupyter notebook from data.ipynb\n"
     ]
    },
    {
     "data": {
      "text/plain": [
       "<matplotlib.figure.Figure at 0x136d925f8>"
      ]
     },
     "metadata": {},
     "output_type": "display_data"
    },
    {
     "data": {
      "text/plain": [
       "<matplotlib.figure.Figure at 0x1051b2fd0>"
      ]
     },
     "metadata": {},
     "output_type": "display_data"
    }
   ],
   "source": [
    "from flight_network import A, X, y"
   ]
  },
  {
   "cell_type": "code",
   "execution_count": 6,
   "metadata": {},
   "outputs": [],
   "source": [
    "y = np.asarray(y)\n",
    "N = A.shape[0]\n",
    "F = X.shape[-1]"
   ]
  },
  {
   "cell_type": "code",
   "execution_count": 7,
   "metadata": {},
   "outputs": [],
   "source": [
    "A = GraphConv.preprocess(A).astype('f4')"
   ]
  },
  {
   "cell_type": "code",
   "execution_count": 8,
   "metadata": {},
   "outputs": [],
   "source": [
    "#from sklearn.model_selection import train_test_split\n",
    "#y_train, y_test = train_test_split(y, test_size=0.2)"
   ]
  },
  {
   "cell_type": "code",
   "execution_count": 9,
   "metadata": {},
   "outputs": [
    {
     "name": "stdout",
     "output_type": "stream",
     "text": [
      "Model: \"model\"\n",
      "__________________________________________________________________________________________________\n",
      "Layer (type)                    Output Shape         Param #     Connected to                     \n",
      "==================================================================================================\n",
      "input_1 (InputLayer)            [(None, 4)]          0                                            \n",
      "__________________________________________________________________________________________________\n",
      "input_2 (InputLayer)            [(None, None)]       0                                            \n",
      "__________________________________________________________________________________________________\n",
      "graph_conv (GraphConv)          (None, 51)           255         input_1[0][0]                    \n",
      "                                                                 input_2[0][0]                    \n",
      "__________________________________________________________________________________________________\n",
      "graph_conv_1 (GraphConv)        (None, 51)           2652        graph_conv[0][0]                 \n",
      "                                                                 input_2[0][0]                    \n",
      "__________________________________________________________________________________________________\n",
      "graph_conv_2 (GraphConv)        (None, 51)           2652        graph_conv_1[0][0]               \n",
      "                                                                 input_2[0][0]                    \n",
      "__________________________________________________________________________________________________\n",
      "dense (Dense)                   (None, 1)            52          graph_conv_2[0][0]               \n",
      "==================================================================================================\n",
      "Total params: 5,611\n",
      "Trainable params: 5,611\n",
      "Non-trainable params: 0\n",
      "__________________________________________________________________________________________________\n"
     ]
    }
   ],
   "source": [
    "learning_rate = 1e-3\n",
    "X_in = Input(shape=(F, ))\n",
    "A_in = Input((N, ), sparse=True)\n",
    "\n",
    "X_1 = GraphConv(51, 'relu')([X_in, A_in])\n",
    "X_2 = GraphConv(51, 'relu')([X_1, A_in])\n",
    "X_3 = GraphConv(51, 'relu')([X_2, A_in])\n",
    "output = Dense(1)(X_3)\n",
    "model = Model(inputs=[X_in, A_in], outputs=output)\n",
    "optimizer = Adam(lr=learning_rate)\n",
    "model.compile(optimizer=optimizer, loss='mse', metrics=['mse','mae'])\n",
    "model.summary()"
   ]
  },
  {
   "cell_type": "code",
   "execution_count": 10,
   "metadata": {},
   "outputs": [],
   "source": [
    "train_msk = np.random.rand(len(X)) < 0.8\n",
    "va_msk = np.random.rand(len(X)) < 0.2\n",
    "validation_data = ([X, A], y, va_msk)\n",
    "test_msk = [~train_msk]"
   ]
  },
  {
   "cell_type": "code",
   "execution_count": 11,
   "metadata": {},
   "outputs": [
    {
     "name": "stdout",
     "output_type": "stream",
     "text": [
      "WARNING:tensorflow:sample_weight modes were coerced from\n",
      "  ...\n",
      "    to  \n",
      "  ['...']\n",
      "WARNING:tensorflow:sample_weight modes were coerced from\n",
      "  ...\n",
      "    to  \n",
      "  ['...']\n",
      "Train on 52 samples, validate on 52 samples\n",
      "Epoch 1/200\n",
      "52/52 [==============================] - 1s 23ms/sample - loss: 273978.1250 - mse: 293908.3438 - mae: 434.5372 - val_loss: 3772.9705 - val_mse: 219297.3281 - val_mae: 346.7937\n",
      "Epoch 2/200\n",
      "52/52 [==============================] - 0s 547us/sample - loss: 207950.8438 - mse: 219297.3281 - mae: 346.7936 - val_loss: 1249.5265 - val_mse: 161054.8594 - val_mae: 258.1887\n",
      "Epoch 3/200\n",
      "52/52 [==============================] - 0s 397us/sample - loss: 155562.9219 - mse: 161054.8594 - mae: 258.1887 - val_loss: 135.3524 - val_mse: 120434.6406 - val_mae: 185.3975\n",
      "Epoch 4/200\n",
      "52/52 [==============================] - 0s 383us/sample - loss: 117948.6250 - mse: 120434.6406 - mae: 185.3974 - val_loss: 354.2180 - val_mse: 97037.2500 - val_mae: 173.9597\n",
      "Epoch 5/200\n",
      "52/52 [==============================] - 0s 630us/sample - loss: 94847.0000 - mse: 97037.2578 - mae: 173.9597 - val_loss: 1677.8876 - val_mse: 89268.1406 - val_mae: 199.3837\n",
      "Epoch 6/200\n",
      "52/52 [==============================] - 0s 586us/sample - loss: 85091.0312 - mse: 89268.1328 - mae: 199.3837 - val_loss: 3629.6294 - val_mse: 92920.5391 - val_mae: 229.5771\n",
      "Epoch 7/200\n",
      "52/52 [==============================] - 0s 347us/sample - loss: 85385.0781 - mse: 92920.5391 - mae: 229.5771 - val_loss: 5841.0332 - val_mse: 103111.4531 - val_mae: 259.2023\n",
      "Epoch 8/200\n",
      "52/52 [==============================] - 0s 484us/sample - loss: 91601.1172 - mse: 103111.4531 - mae: 259.2023 - val_loss: 7771.9160 - val_mse: 114531.8750 - val_mae: 282.1252\n",
      "Epoch 9/200\n",
      "52/52 [==============================] - 0s 455us/sample - loss: 99479.1250 - mse: 114531.8828 - mae: 282.1252 - val_loss: 9139.8428 - val_mse: 123532.7344 - val_mae: 297.8680\n",
      "Epoch 10/200\n",
      "52/52 [==============================] - 0s 615us/sample - loss: 105944.3672 - mse: 123532.7344 - mae: 297.8680 - val_loss: 9843.5459 - val_mse: 128389.7578 - val_mae: 305.5033\n",
      "Epoch 11/200\n",
      "52/52 [==============================] - 0s 656us/sample - loss: 109490.7344 - mse: 128389.7578 - mae: 305.5033 - val_loss: 9861.1523 - val_mse: 128512.4297 - val_mae: 305.6891\n",
      "Epoch 12/200\n",
      "52/52 [==============================] - 0s 601us/sample - loss: 109580.7109 - mse: 128512.4141 - mae: 305.6891 - val_loss: 9314.2510 - val_mse: 124721.7109 - val_mae: 299.7827\n",
      "Epoch 13/200\n",
      "52/52 [==============================] - 0s 441us/sample - loss: 106809.2500 - mse: 124721.6953 - mae: 299.7826 - val_loss: 8371.0684 - val_mse: 118393.9219 - val_mae: 289.1713\n",
      "Epoch 14/200\n",
      "52/52 [==============================] - 0s 448us/sample - loss: 102233.2891 - mse: 118393.9219 - mae: 289.1713 - val_loss: 7203.1426 - val_mse: 110990.1719 - val_mae: 275.4814\n",
      "Epoch 15/200\n",
      "52/52 [==============================] - 0s 465us/sample - loss: 96986.0703 - mse: 110990.1719 - mae: 275.4814 - val_loss: 5834.9600 - val_mse: 103077.8203 - val_mae: 259.1184\n",
      "Epoch 16/200\n",
      "52/52 [==============================] - 0s 384us/sample - loss: 91577.9297 - mse: 103077.8281 - mae: 259.1184 - val_loss: 4374.0474 - val_mse: 95880.1250 - val_mae: 240.0314\n"
     ]
    },
    {
     "data": {
      "text/plain": [
       "<tensorflow.python.keras.callbacks.History at 0x135828dd8>"
      ]
     },
     "execution_count": 11,
     "metadata": {},
     "output_type": "execute_result"
    }
   ],
   "source": [
    "model.fit([X, A], y,\n",
    "          batch_size = N, \n",
    "          sample_weight=train_msk,\n",
    "          validation_data=validation_data,\n",
    "          epochs = 200,\n",
    "          shuffle=False,\n",
    "          callbacks=[\n",
    "              EarlyStopping(monitor=\"loss\",patience=10, mode = 'auto',restore_best_weights=True)\n",
    "          ])"
   ]
  },
  {
   "cell_type": "code",
   "execution_count": 12,
   "metadata": {},
   "outputs": [
    {
     "name": "stdout",
     "output_type": "stream",
     "text": [
      "WARNING:tensorflow:sample_weight modes were coerced from\n",
      "  ...\n",
      "    to  \n",
      "  ['...']\n",
      "52/52 [==============================] - 0s 56us/sample - loss: 7535.4565 - mse: 92920.5391 - mae: 229.5771\n",
      "Done.\n",
      "Test loss: 7535.45654296875\n",
      "Test accuracy: 92920.5390625\n"
     ]
    }
   ],
   "source": [
    "eval_results = model.evaluate([X, A],\n",
    "                              y,\n",
    "                              sample_weight=test_msk,\n",
    "                              batch_size=N)\n",
    "print('Done.\\n'\n",
    "      'Test loss: {}\\n'\n",
    "      'Test accuracy: {}'.format(*eval_results)\n",
    "    )"
   ]
  },
  {
   "cell_type": "code",
   "execution_count": 13,
   "metadata": {},
   "outputs": [],
   "source": [
    "y_pred = model.predict([X,A],batch_size = N)"
   ]
  },
  {
   "cell_type": "code",
   "execution_count": 14,
   "metadata": {},
   "outputs": [
    {
     "name": "stdout",
     "output_type": "stream",
     "text": [
      "108565.52901127031\n"
     ]
    }
   ],
   "source": [
    "mse = np.mean((y - y_pred)**2)\n",
    "print(mse)"
   ]
  },
  {
   "cell_type": "code",
   "execution_count": 15,
   "metadata": {},
   "outputs": [
    {
     "name": "stdout",
     "output_type": "stream",
     "text": [
      "[[ 132.79573422   76.24970308   57.52096929 ...   40.45529803\n",
      "   118.93989041 -304.83159029]\n",
      " [ 214.94327146  158.39724032  139.66850652 ...  122.60283526\n",
      "   201.08742765 -222.68405306]\n",
      " [ 228.64502317  172.09899202  153.37025823 ...  136.30458697\n",
      "   214.78917935 -208.98230135]\n",
      " ...\n",
      " [ 283.65533811  227.10930697  208.38057317 ...  191.31490191\n",
      "   269.7994943  -153.97198641]\n",
      " [ 145.80905515   89.26302401   70.53429022 ...   53.46861895\n",
      "   131.95321134 -291.81826937]\n",
      " [ 168.61537534  112.0693442    93.34061041 ...   76.27493914\n",
      "   154.75953153 -269.01194918]]\n"
     ]
    }
   ],
   "source": [
    "pred_error = y_pred-y\n",
    "print(pred_error)"
   ]
  },
  {
   "cell_type": "code",
   "execution_count": 16,
   "metadata": {},
   "outputs": [
    {
     "data": {
      "text/plain": [
       "Text(0.5,0,'Errors')"
      ]
     },
     "execution_count": 16,
     "metadata": {},
     "output_type": "execute_result"
    },
    {
     "data": {
      "image/png": "[encoded data removed]",
      "text/plain": [
       "<matplotlib.figure.Figure at 0x13699a4e0>"
      ]
     },
     "metadata": {},
     "output_type": "display_data"
    }
   ],
   "source": [
    "import matplotlib.pyplot as plt\n",
    "plt.hist(pred_error, density=True, bins=50)\n",
    "plt.ylabel('Probability')\n",
    "plt.xlabel('Errors')"
   ]
  },
  {
   "cell_type": "code",
   "execution_count": null,
   "metadata": {
    "scrolled": true
   },
   "outputs": [],
   "source": []
  },
  {
   "cell_type": "code",
   "execution_count": null,
   "metadata": {},
   "outputs": [],
   "source": []
  },
  {
   "cell_type": "code",
   "execution_count": null,
   "metadata": {},
   "outputs": [],
   "source": []
  },
  {
   "cell_type": "code",
   "execution_count": null,
   "metadata": {},
   "outputs": [],
   "source": []
  }
 ],
 "metadata": {
  "kernelspec": {
   "display_name": "Python 3",
   "language": "python",
   "name": "python3"
  },
  "language_info": {
   "codemirror_mode": {
    "name": "ipython",
    "version": 3
   },
   "file_extension": ".py",
   "mimetype": "text/x-python",
   "name": "python",
   "nbconvert_exporter": "python",
   "pygments_lexer": "ipython3",
   "version": "3.6.4"
  }
 },
 "nbformat": 4,
 "nbformat_minor": 2
}
