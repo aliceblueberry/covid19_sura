{
 "cells": [
  {
   "cell_type": "code",
   "execution_count": 1,
   "metadata": {},
   "outputs": [],
   "source": [
    "import matplotlib.pyplot as plt"
   ]
  },
  {
   "cell_type": "code",
   "execution_count": 2,
   "metadata": {},
   "outputs": [],
   "source": [
    "import import_ipynb\n",
    "import networkx as nx\n",
    "import scipy as sp\n",
    "import numpy as np"
   ]
  },
  {
   "cell_type": "code",
   "execution_count": 3,
   "metadata": {},
   "outputs": [
    {
     "name": "stdout",
     "output_type": "stream",
     "text": [
      "importing Jupyter notebook from data.ipynb\n"
     ]
    },
    {
     "data": {
      "image/png": "[encoded data removed]",
      "text/plain": [
       "<matplotlib.figure.Figure at 0x124e6d6d8>"
      ]
     },
     "metadata": {},
     "output_type": "display_data"
    },
    {
     "data": {
      "image/png": "[encoded data removed]",
      "text/plain": [
       "<matplotlib.figure.Figure at 0x10f099390>"
      ]
     },
     "metadata": {},
     "output_type": "display_data"
    }
   ],
   "source": [
    "from data import df_normalized, april, state_list, features"
   ]
  },
  {
   "cell_type": "code",
   "execution_count": 4,
   "metadata": {
    "scrolled": true
   },
   "outputs": [],
   "source": [
    "subset = df_normalized[['ORIGIN_STATE_ABR', 'DEST_STATE_ABR', 'PASSENGERS_NORMALIZED']]\n",
    "tuples = [tuple(x) for x in subset.values]"
   ]
  },
  {
   "cell_type": "code",
   "execution_count": 6,
   "metadata": {},
   "outputs": [],
   "source": [
    "#create flight network\n",
    "G = nx.DiGraph()\n",
    "G.add_nodes_from(tuples)\n",
    "G.add_weighted_edges_from(tuples)"
   ]
  },
  {
   "cell_type": "code",
   "execution_count": 6,
   "metadata": {
    "scrolled": true
   },
   "outputs": [],
   "source": [
    "# draw flight network\n",
    "# plt.figure(figsize = (40,40))\n",
    "# nx.draw_networkx(G, node_size = 10, with_labels = True)"
   ]
  },
  {
   "cell_type": "code",
   "execution_count": 7,
   "metadata": {},
   "outputs": [],
   "source": [
    "#lack VI population data from CensGov. Hence removed VI node.\n",
    "#lack covid 19 cases data and population data for Trust Territory of Pacific Islands. Hence removed TT node.\n",
    "G.remove_node('VI')\n",
    "G.remove_node('TT')"
   ]
  },
  {
   "cell_type": "code",
   "execution_count": 8,
   "metadata": {},
   "outputs": [],
   "source": [
    "nx.set_node_attributes(G, april['infect_rate'], 'rate')"
   ]
  },
  {
   "cell_type": "code",
   "execution_count": 10,
   "metadata": {},
   "outputs": [],
   "source": [
    "# the node attr shows the count of positive covid 19 cases by the end of March. first key be the name of the state abrev\n",
    "# second key be the attribute name 'cases'. "
   ]
  },
  {
   "cell_type": "code",
   "execution_count": 10,
   "metadata": {},
   "outputs": [
    {
     "name": "stdout",
     "output_type": "stream",
     "text": [
      "[[0.86709722 0.         0.         ... 0.         0.         0.        ]\n",
      " [0.         0.11830072 0.         ... 0.         0.         0.        ]\n",
      " [0.         0.         0.         ... 0.         0.         0.        ]\n",
      " ...\n",
      " [0.         0.         0.         ... 0.37793476 0.         0.        ]\n",
      " [0.         0.         0.         ... 0.         0.44221386 0.        ]\n",
      " [0.         0.         0.         ... 0.         0.         0.47585928]]\n"
     ]
    }
   ],
   "source": [
    "A = nx.to_scipy_sparse_matrix(G, nodelist = state_list)"
   ]
  },
  {
   "cell_type": "code",
   "execution_count": 11,
   "metadata": {},
   "outputs": [
    {
     "name": "stdout",
     "output_type": "stream",
     "text": [
      "[48.52743166859182, 105.07346280944842, 123.80219660128968, 256.27151513804415, 43.294874112914165, 143.91009909866457, 59.51058589001637, 214.1724118776193, 143.15184925716653, 156.8601012294731, 246.34037845153196, 417.60375245199566, 101.59651344223268, 359.62869354646625, 475.675179888928, 100.19942632038415, 1335.8417237190379, 162.26450868072916, 1564.608145521532, 357.4678903411025, 118.37907485247771, 96.86548237661756, 185.64776201658037, 107.85988752085953, 602.3282597594128, 123.21122137807563, 153.23137938286814, 91.43357381188794, 157.1932418181174, 226.46090261071862, 111.02002445350337, 264.92008058561373, 145.47007291352733, 902.5023275289108, 228.98719116549609, 42.38485447866629, 140.0148544344161, 195.61540274854113, 154.22059867740032, 276.8298293466748, 145.7286714298815, 138.29267965940016, 93.99421866441818, 776.9360503095543, 48.18871188034921, 81.46036488292025, 151.0615123360773, 813.7924654579507, 140.86786786305527, 62.38327547907622, 486.15475618322307]\n"
     ]
    }
   ],
   "source": [
    "#labels: cases per 100,000 people\n",
    "infect_rate = nx.get_node_attributes(G,'rate')\n",
    "y = list(infect_rate.values())"
   ]
  },
  {
   "cell_type": "code",
   "execution_count": 12,
   "metadata": {},
   "outputs": [
    {
     "name": "stdout",
     "output_type": "stream",
     "text": [
      "    infect_rate_march  march_inc_1  march_inc_2  pos_rate_sample\n",
      "0           16.266942           33           83         0.018568\n",
      "1           20.007403          179          766         0.080497\n",
      "2           17.330483          196          305         0.067281\n",
      "3           17.709165          337          932         0.106539\n",
      "4           18.935913         1619         5380         0.078225\n",
      "5           45.617649          560         1907         0.207687\n",
      "6           87.734872          577         2510         0.285176\n",
      "7           32.759478           75          228         0.216957\n",
      "8           29.509627         1226         4926         0.088100\n",
      "9           37.005213          880         2903         0.175485\n",
      "10          14.408082           67          127         0.020007\n",
      "11          15.752424          101          373         0.167460\n",
      "12          23.222435           43          365         0.068779\n",
      "13          47.301805         1376         4459         0.196089\n",
      "14          32.069664          335         1794         0.187741\n",
      "15          14.691173           83          330         0.134004\n",
      "16          10.743848          102          356         0.083899\n",
      "17         112.652873         1251         3849         0.173586\n",
      "18          94.610042          942         5461         0.225669\n",
      "19          27.457623          292         1311         0.190121\n",
      "20          22.541087           93          178         0.053050\n",
      "21         186.785492         6496         8499         0.219474\n",
      "22          16.242195          198          472         0.099626\n",
      "23          21.621435          175         1144         0.093720\n",
      "24          31.483639          299          617         0.102728\n",
      "25          17.215923           38          138         0.032557\n",
      "26          14.282876          358         1100         0.082078\n",
      "27          16.534088           31           92         0.038857\n",
      "28           8.891609           31          120         0.149441\n",
      "29          23.093143           84          213         0.093700\n",
      "30         210.488629         3408        15021         0.478594\n",
      "31          13.401188           60          198         0.049366\n",
      "32          36.134533          223          835         0.119040\n",
      "33         389.620183        23965        50130         0.337952\n",
      "34          18.812398          497         1635         0.134640\n",
      "35          14.278598           89          459         0.057046\n",
      "36          16.359484          162          481         0.044796\n",
      "37          37.830059          755         3992         0.206731\n",
      "38           7.483497           34          200         0.141817\n",
      "39          46.159902          101          365         0.135316\n",
      "40          21.034379          265          785         0.107853\n",
      "41          12.208094           19           78         0.143822\n",
      "42          32.785810          594         1572         0.060436\n",
      "43          11.263669          346         2856         0.085035\n",
      "44          27.667237          248          588         0.043060\n",
      "45          14.644687          223          960         0.173163\n",
      "46          51.282955          106          195         0.057692\n",
      "47         110.717248         2491         2508         0.079436\n",
      "48          27.222292          442         1060         0.103969\n",
      "49           9.039437           20          142         0.025100\n",
      "50          18.833400           19           80         0.057591\n"
     ]
    }
   ],
   "source": [
    "#feature matrix\n",
    "X = features\n",
    "X.drop(columns = ['state'], inplace = True)"
   ]
  },
  {
   "cell_type": "code",
   "execution_count": 16,
   "metadata": {},
   "outputs": [],
   "source": [
    "X = X.to_numpy()"
   ]
  },
  {
   "cell_type": "code",
   "execution_count": null,
   "metadata": {},
   "outputs": [],
   "source": []
  }
 ],
 "metadata": {
  "kernelspec": {
   "display_name": "Python 3",
   "language": "python",
   "name": "python3"
  },
  "language_info": {
   "codemirror_mode": {
    "name": "ipython",
    "version": 3
   },
   "file_extension": ".py",
   "mimetype": "text/x-python",
   "name": "python",
   "nbconvert_exporter": "python",
   "pygments_lexer": "ipython3",
   "version": "3.6.4"
  }
 },
 "nbformat": 4,
 "nbformat_minor": 2
}
