{
 "cells": [
  {
   "cell_type": "code",
   "execution_count": 1,
   "metadata": {},
   "outputs": [
    {
     "name": "stderr",
     "output_type": "stream",
     "text": [
      "/anaconda3/lib/python3.6/site-packages/h5py/__init__.py:36: FutureWarning: Conversion of the second argument of issubdtype from `float` to `np.floating` is deprecated. In future, it will be treated as `np.float64 == np.dtype(float).type`.\n",
      "  from ._conv import register_converters as _register_converters\n"
     ]
    }
   ],
   "source": [
    "from spektral.layers import GraphConv\n",
    "from tensorflow.keras.models import Model\n",
    "from tensorflow.keras.layers import Input, Dropout"
   ]
  },
  {
   "cell_type": "code",
   "execution_count": 2,
   "metadata": {},
   "outputs": [
    {
     "name": "stdout",
     "output_type": "stream",
     "text": [
      "Loading cora dataset\n",
      "Pre-processing node features\n"
     ]
    }
   ],
   "source": [
    "from spektral.datasets import citation\n",
    "A, X, y, train_mask, val_mask, test_mask = citation.load_data('cora')\n",
    "\n",
    "N = A.shape[0]\n",
    "F = X.shape[-1]\n",
    "n_classes = y.shape[-1]"
   ]
  },
  {
   "cell_type": "code",
   "execution_count": 4,
   "metadata": {},
   "outputs": [
    {
     "name": "stdout",
     "output_type": "stream",
     "text": [
      "  (0, 633)\t1\n",
      "  (0, 1862)\t1\n",
      "  (0, 2582)\t1\n",
      "  (1, 2)\t1\n",
      "  (1, 652)\t1\n",
      "  (1, 654)\t1\n",
      "  (2, 1)\t1\n",
      "  (2, 332)\t1\n",
      "  (2, 1454)\t1\n",
      "  (2, 1666)\t1\n",
      "  (2, 1986)\t1\n",
      "  (3, 2544)\t1\n",
      "  (4, 1016)\t1\n",
      "  (4, 1256)\t1\n",
      "  (4, 1761)\t1\n",
      "  (4, 2175)\t1\n",
      "  (4, 2176)\t1\n",
      "  (5, 1629)\t1\n",
      "  (5, 1659)\t1\n",
      "  (5, 2546)\t1\n",
      "  (6, 373)\t1\n",
      "  (6, 1042)\t1\n",
      "  (6, 1416)\t1\n",
      "  (6, 1602)\t1\n",
      "  (7, 208)\t1\n",
      "  :\t:\n",
      "  (2694, 431)\t1\n",
      "  (2694, 2695)\t1\n",
      "  (2695, 431)\t1\n",
      "  (2695, 2694)\t1\n",
      "  (2696, 2615)\t1\n",
      "  (2697, 986)\t1\n",
      "  (2698, 1400)\t1\n",
      "  (2698, 1573)\t1\n",
      "  (2699, 2630)\t1\n",
      "  (2700, 1151)\t1\n",
      "  (2701, 44)\t1\n",
      "  (2701, 2624)\t1\n",
      "  (2702, 186)\t1\n",
      "  (2702, 1536)\t1\n",
      "  (2703, 1298)\t1\n",
      "  (2704, 641)\t1\n",
      "  (2705, 287)\t1\n",
      "  (2706, 165)\t1\n",
      "  (2706, 169)\t1\n",
      "  (2706, 1473)\t1\n",
      "  (2706, 2707)\t1\n",
      "  (2707, 165)\t1\n",
      "  (2707, 598)\t1\n",
      "  (2707, 1473)\t1\n",
      "  (2707, 2706)\t1\n"
     ]
    }
   ],
   "source": [
    "print(A)\n",
    "?A"
   ]
  },
  {
   "cell_type": "code",
   "execution_count": 7,
   "metadata": {},
   "outputs": [
    {
     "name": "stdout",
     "output_type": "stream",
     "text": [
      "  (0, 1274)\t0.11111111\n",
      "  (0, 1247)\t0.11111111\n",
      "  (0, 1194)\t0.11111111\n",
      "  (0, 877)\t0.11111111\n",
      "  (0, 774)\t0.11111111\n",
      "  (0, 315)\t0.11111111\n",
      "  (0, 146)\t0.11111111\n",
      "  (0, 81)\t0.11111111\n",
      "  (0, 19)\t0.11111111\n",
      "  (1, 1349)\t0.04347826\n",
      "  (1, 1339)\t0.04347826\n",
      "  (1, 1332)\t0.04347826\n",
      "  (1, 1262)\t0.04347826\n",
      "  (1, 1257)\t0.04347826\n",
      "  (1, 1254)\t0.04347826\n",
      "  (1, 1177)\t0.04347826\n",
      "  (1, 1058)\t0.04347826\n",
      "  (1, 889)\t0.04347826\n",
      "  (1, 808)\t0.04347826\n",
      "  (1, 763)\t0.04347826\n",
      "  (1, 687)\t0.04347826\n",
      "  (1, 548)\t0.04347826\n",
      "  (1, 507)\t0.04347826\n",
      "  (1, 472)\t0.04347826\n",
      "  (1, 359)\t0.04347826\n",
      "  :\t:\n",
      "  (2706, 1198)\t0.071428575\n",
      "  (2706, 1171)\t0.071428575\n",
      "  (2706, 1042)\t0.071428575\n",
      "  (2706, 960)\t0.071428575\n",
      "  (2706, 953)\t0.071428575\n",
      "  (2706, 813)\t0.071428575\n",
      "  (2706, 775)\t0.071428575\n",
      "  (2706, 774)\t0.071428575\n",
      "  (2706, 520)\t0.071428575\n",
      "  (2706, 498)\t0.071428575\n",
      "  (2706, 247)\t0.071428575\n",
      "  (2706, 19)\t0.071428575\n",
      "  (2707, 1414)\t0.07692308\n",
      "  (2707, 1412)\t0.07692308\n",
      "  (2707, 1328)\t0.07692308\n",
      "  (2707, 1114)\t0.07692308\n",
      "  (2707, 1022)\t0.07692308\n",
      "  (2707, 896)\t0.07692308\n",
      "  (2707, 774)\t0.07692308\n",
      "  (2707, 754)\t0.07692308\n",
      "  (2707, 454)\t0.07692308\n",
      "  (2707, 447)\t0.07692308\n",
      "  (2707, 329)\t0.07692308\n",
      "  (2707, 186)\t0.07692308\n",
      "  (2707, 19)\t0.07692308\n"
     ]
    }
   ],
   "source": [
    "print(X)\n",
    "?X"
   ]
  },
  {
   "cell_type": "code",
   "execution_count": 5,
   "metadata": {},
   "outputs": [
    {
     "name": "stdout",
     "output_type": "stream",
     "text": [
      "Loading cora dataset\n",
      "Pre-processing node features\n"
     ]
    }
   ],
   "source": [
    "X_in = Input(shape=(F, ))\n",
    "A_in = Input((N, ), sparse=True)\n",
    "\n",
    "X_1 = GraphConv(16, 'relu')([X_in, A_in])\n",
    "X_1 = Dropout(0.5)(X_1)\n",
    "X_2 = GraphConv(n_classes, 'softmax')([X_1, A_in])\n",
    "\n",
    "model = Model(inputs=[X_in, A_in], outputs=X_2)"
   ]
  },
  {
   "cell_type": "code",
   "execution_count": 8,
   "metadata": {},
   "outputs": [
    {
     "name": "stdout",
     "output_type": "stream",
     "text": [
      "  (0, 0)\t0.25\n",
      "  (0, 633)\t0.25\n",
      "  (0, 1862)\t0.2236068\n",
      "  (0, 2582)\t0.25\n",
      "  (1, 1)\t0.25\n",
      "  (1, 2)\t0.20412415\n",
      "  (1, 652)\t0.28867513\n",
      "  (1, 654)\t0.35355338\n",
      "  (2, 1)\t0.20412415\n",
      "  (2, 2)\t0.16666667\n",
      "  (2, 332)\t0.16666667\n",
      "  (2, 1454)\t0.28867513\n",
      "  (2, 1666)\t0.15430336\n",
      "  (2, 1986)\t0.05025189\n",
      "  (3, 3)\t0.5\n",
      "  (3, 2544)\t0.5\n",
      "  (4, 4)\t0.16666667\n",
      "  (4, 1016)\t0.16666667\n",
      "  (4, 1256)\t0.13608277\n",
      "  (4, 1761)\t0.14433756\n",
      "  (4, 2175)\t0.16666667\n",
      "  (4, 2176)\t0.13608277\n",
      "  (5, 5)\t0.25\n",
      "  (5, 1629)\t0.25\n",
      "  (5, 1659)\t0.28867513\n",
      "  :\t:\n",
      "  (2699, 2699)\t0.5\n",
      "  (2700, 1151)\t0.4082483\n",
      "  (2700, 2700)\t0.5\n",
      "  (2701, 44)\t0.28867513\n",
      "  (2701, 2624)\t0.33333334\n",
      "  (2701, 2701)\t0.33333334\n",
      "  (2702, 186)\t0.2182179\n",
      "  (2702, 1536)\t0.2581989\n",
      "  (2702, 2702)\t0.33333334\n",
      "  (2703, 1298)\t0.5\n",
      "  (2703, 2703)\t0.5\n",
      "  (2704, 641)\t0.5\n",
      "  (2704, 2704)\t0.5\n",
      "  (2705, 287)\t0.5\n",
      "  (2705, 2705)\t0.5\n",
      "  (2706, 165)\t0.2\n",
      "  (2706, 169)\t0.2581989\n",
      "  (2706, 1473)\t0.2\n",
      "  (2706, 2706)\t0.2\n",
      "  (2706, 2707)\t0.2\n",
      "  (2707, 165)\t0.2\n",
      "  (2707, 598)\t0.0766965\n",
      "  (2707, 1473)\t0.2\n",
      "  (2707, 2706)\t0.2\n",
      "  (2707, 2707)\t0.2\n"
     ]
    }
   ],
   "source": [
    "A = GraphConv.preprocess(A).astype('f4')\n",
    "print(A)"
   ]
  },
  {
   "cell_type": "code",
   "execution_count": 8,
   "metadata": {},
   "outputs": [],
   "source": []
  },
  {
   "cell_type": "code",
   "execution_count": null,
   "metadata": {},
   "outputs": [],
   "source": []
  }
 ],
 "metadata": {
  "kernelspec": {
   "display_name": "Python 3",
   "language": "python",
   "name": "python3"
  },
  "language_info": {
   "codemirror_mode": {
    "name": "ipython",
    "version": 3
   },
   "file_extension": ".py",
   "mimetype": "text/x-python",
   "name": "python",
   "nbconvert_exporter": "python",
   "pygments_lexer": "ipython3",
   "version": "3.6.4"
  }
 },
 "nbformat": 4,
 "nbformat_minor": 2
}
