{
 "cells": [
  {
   "cell_type": "code",
   "execution_count": 41,
   "metadata": {},
   "outputs": [],
   "source": [
    "import pandas as pd\n",
    "\n",
    "\n",
    "url = 'https://raw.githubusercontent.com/aliceblueberry/covid19_sura/master/flight%20data.csv'\n",
    "df = pd.read_csv(url)\n",
    "df = df.drop(df.columns[[1,2,3,4,5,8,9,10,13,14,15,16]], axis = 1)\n",
    "df = df.loc[df['PASSENGERS']>0]\n",
    "df = df.reset_index(drop = True)"
   ]
  },
  {
   "cell_type": "code",
   "execution_count": 44,
   "metadata": {},
   "outputs": [],
   "source": [
    "df = df.groupby(['ORIGIN_STATE_ABR', 'DEST_STATE_ABR']).sum()\n",
    "df.to_csv('clean_flight.csv')"
   ]
  },
  {
   "cell_type": "code",
   "execution_count": 49,
   "metadata": {},
   "outputs": [
    {
     "data": {
      "text/plain": [
       "(array([200.,  94., 111.,  62.,  45.,  76.,  61.,  40.,  46.,  29.,  42.,\n",
       "         25.,  25.,  24.,  16.,  23.,  21.,  32.,  20.,  16.,  16.,  15.,\n",
       "         12.,   6.,  12.,  14.,   9.,  13.,   7.,   6.,  10.,   8.,   7.,\n",
       "          5.,   8.,   6.,   8.,   7.,   5.,   6.,   6.,   1.,   6.,   5.,\n",
       "          5.,   4.,   6.,   4.,   4.,   6.,   4.,   4.,   7.,   6.,   3.,\n",
       "          4.,   2.,   4.,   0.,   4.,   3.,   0.,   3.,   2.,   2.,   2.,\n",
       "          2.,   2.,   1.,   2.,   0.,   2.,   1.,   1.,   1.,   2.,   1.,\n",
       "          3.,   1.,   1.,   0.,   1.,   2.,   4.,   2.,   1.,   0.,   0.,\n",
       "          2.,   3.,   1.,   1.,   0.,   0.,   2.,   0.,   2.,   0.,   0.,\n",
       "          6.]), array([1.000000e+00, 9.963100e+02, 1.991620e+03, 2.986930e+03,\n",
       "        3.982240e+03, 4.977550e+03, 5.972860e+03, 6.968170e+03,\n",
       "        7.963480e+03, 8.958790e+03, 9.954100e+03, 1.094941e+04,\n",
       "        1.194472e+04, 1.294003e+04, 1.393534e+04, 1.493065e+04,\n",
       "        1.592596e+04, 1.692127e+04, 1.791658e+04, 1.891189e+04,\n",
       "        1.990720e+04, 2.090251e+04, 2.189782e+04, 2.289313e+04,\n",
       "        2.388844e+04, 2.488375e+04, 2.587906e+04, 2.687437e+04,\n",
       "        2.786968e+04, 2.886499e+04, 2.986030e+04, 3.085561e+04,\n",
       "        3.185092e+04, 3.284623e+04, 3.384154e+04, 3.483685e+04,\n",
       "        3.583216e+04, 3.682747e+04, 3.782278e+04, 3.881809e+04,\n",
       "        3.981340e+04, 4.080871e+04, 4.180402e+04, 4.279933e+04,\n",
       "        4.379464e+04, 4.478995e+04, 4.578526e+04, 4.678057e+04,\n",
       "        4.777588e+04, 4.877119e+04, 4.976650e+04, 5.076181e+04,\n",
       "        5.175712e+04, 5.275243e+04, 5.374774e+04, 5.474305e+04,\n",
       "        5.573836e+04, 5.673367e+04, 5.772898e+04, 5.872429e+04,\n",
       "        5.971960e+04, 6.071491e+04, 6.171022e+04, 6.270553e+04,\n",
       "        6.370084e+04, 6.469615e+04, 6.569146e+04, 6.668677e+04,\n",
       "        6.768208e+04, 6.867739e+04, 6.967270e+04, 7.066801e+04,\n",
       "        7.166332e+04, 7.265863e+04, 7.365394e+04, 7.464925e+04,\n",
       "        7.564456e+04, 7.663987e+04, 7.763518e+04, 7.863049e+04,\n",
       "        7.962580e+04, 8.062111e+04, 8.161642e+04, 8.261173e+04,\n",
       "        8.360704e+04, 8.460235e+04, 8.559766e+04, 8.659297e+04,\n",
       "        8.758828e+04, 8.858359e+04, 8.957890e+04, 9.057421e+04,\n",
       "        9.156952e+04, 9.256483e+04, 9.356014e+04, 9.455545e+04,\n",
       "        9.555076e+04, 9.654607e+04, 9.754138e+04, 9.853669e+04,\n",
       "        9.953200e+04]), <a list of 100 Patch objects>)"
      ]
     },
     "execution_count": 49,
     "metadata": {},
     "output_type": "execute_result"
    },
    {
     "data": {
      "image/png": "[encoded data removed]",
      "text/plain": [
       "<matplotlib.figure.Figure at 0x10ea36400>"
      ]
     },
     "metadata": {},
     "output_type": "display_data"
    }
   ],
   "source": [
    "import matplotlib.pyplot as plt\n",
    "plt.hist(df[df['PASSENGERS']<100000]['PASSENGERS'], bins = 100)\n"
   ]
  },
  {
   "cell_type": "code",
   "execution_count": 1,
   "metadata": {},
   "outputs": [
    {
     "ename": "NameError",
     "evalue": "name 'pd' is not defined",
     "output_type": "error",
     "traceback": [
      "\u001b[0;31m---------------------------------------------------------------------------\u001b[0m",
      "\u001b[0;31mNameError\u001b[0m                                 Traceback (most recent call last)",
      "\u001b[0;32m<ipython-input-1-ae44eac3fd50>\u001b[0m in \u001b[0;36m<module>\u001b[0;34m()\u001b[0m\n\u001b[1;32m      1\u001b[0m \u001b[0murl_f\u001b[0m \u001b[0;34m=\u001b[0m \u001b[0;34m'https://raw.githubusercontent.com/aliceblueberry/covid19_sura/master/clean_flight.csv'\u001b[0m\u001b[0;34m\u001b[0m\u001b[0m\n\u001b[0;32m----> 2\u001b[0;31m \u001b[0mdf_flight\u001b[0m \u001b[0;34m=\u001b[0m \u001b[0mdf\u001b[0m \u001b[0;34m=\u001b[0m \u001b[0mpd\u001b[0m\u001b[0;34m.\u001b[0m\u001b[0mread_csv\u001b[0m\u001b[0;34m(\u001b[0m\u001b[0murl_f\u001b[0m\u001b[0;34m)\u001b[0m\u001b[0;34m\u001b[0m\u001b[0m\n\u001b[0m",
      "\u001b[0;31mNameError\u001b[0m: name 'pd' is not defined"
     ]
    }
   ],
   "source": [
    "\n"
   ]
  },
  {
   "cell_type": "code",
   "execution_count": null,
   "metadata": {},
   "outputs": [],
   "source": []
  }
 ],
 "metadata": {
  "kernelspec": {
   "display_name": "Python 3",
   "language": "python",
   "name": "python3"
  },
  "language_info": {
   "codemirror_mode": {
    "name": "ipython",
    "version": 3
   },
   "file_extension": ".py",
   "mimetype": "text/x-python",
   "name": "python",
   "nbconvert_exporter": "python",
   "pygments_lexer": "ipython3",
   "version": "3.6.4"
  }
 },
 "nbformat": 4,
 "nbformat_minor": 2
}
