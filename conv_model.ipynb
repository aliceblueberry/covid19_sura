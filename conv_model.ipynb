{
 "cells": [
  {
   "cell_type": "code",
   "execution_count": 1,
   "metadata": {},
   "outputs": [
    {
     "name": "stderr",
     "output_type": "stream",
     "text": [
      "/anaconda3/lib/python3.6/site-packages/h5py/__init__.py:36: FutureWarning: Conversion of the second argument of issubdtype from `float` to `np.floating` is deprecated. In future, it will be treated as `np.float64 == np.dtype(float).type`.\n",
      "  from ._conv import register_converters as _register_converters\n"
     ]
    }
   ],
   "source": [
    "from spektral.layers import GraphConv\n",
    "from tensorflow.keras.models import Model\n",
    "from tensorflow.keras.layers import Input, Dropout\n",
    "import import_ipynb"
   ]
  },
  {
   "cell_type": "code",
   "execution_count": 15,
   "metadata": {},
   "outputs": [],
   "source": [
    "import numpy as np"
   ]
  },
  {
   "cell_type": "code",
   "execution_count": 2,
   "metadata": {},
   "outputs": [
    {
     "name": "stdout",
     "output_type": "stream",
     "text": [
      "importing Jupyter notebook from flight_network.ipynb\n",
      "importing Jupyter notebook from data.ipynb\n"
     ]
    },
    {
     "data": {
      "text/plain": [
       "<matplotlib.figure.Figure at 0x1035aeb38>"
      ]
     },
     "metadata": {},
     "output_type": "display_data"
    },
    {
     "data": {
      "text/plain": [
       "<matplotlib.figure.Figure at 0x1181f06d8>"
      ]
     },
     "metadata": {},
     "output_type": "display_data"
    },
    {
     "name": "stdout",
     "output_type": "stream",
     "text": [
      "       positive\n",
      "state          \n",
      "AK          119\n",
      "AL          981\n",
      "AR          523\n",
      "AZ         1289\n",
      "CA         7482\n",
      "CO         2627\n",
      "CT         3128\n",
      "DE          319\n",
      "FL         6338\n",
      "GA         3929\n",
      "HI          204\n",
      "IA          497\n",
      "ID          415\n",
      "IL         5994\n",
      "IN         2159\n",
      "KS          428\n",
      "KY          480\n",
      "LA         5237\n",
      "MA         6521\n",
      "MD         1660\n",
      "ME          303\n",
      "MI        18654\n",
      "MN          916\n",
      "MO         1327\n",
      "MS          937\n",
      "MT          184\n",
      "NC         1498\n",
      "ND          126\n",
      "NE          172\n",
      "NH          314\n",
      "NJ        18696\n",
      "NM          281\n",
      "NV         1113\n",
      "NY        75795\n",
      "OH         2199\n",
      "OK          565\n",
      "OR          690\n",
      "PA         4843\n",
      "PR          239\n",
      "RI          489\n",
      "SC         1083\n",
      "SD          108\n",
      "TN         2239\n",
      "TX         3266\n",
      "UT          887\n",
      "VA         1250\n",
      "VT          320\n",
      "WA         8431\n",
      "WI         1585\n",
      "WV          162\n",
      "WY          109\n",
      "['AK', 'AL', 'AR', 'AZ', 'CA', 'CO', 'CT', 'DE', 'FL', 'GA', 'HI', 'IA', 'ID', 'IL', 'IN', 'KS', 'KY', 'LA', 'MA', 'MD', 'ME', 'MI', 'MN', 'MO', 'MS', 'MT', 'NC', 'ND', 'NE', 'NH', 'NJ', 'NM', 'NV', 'NY', 'OH', 'OK', 'OR', 'PA', 'PR', 'RI', 'SC', 'SD', 'TN', 'TX', 'UT', 'VA', 'VT', 'WA', 'WI', 'WV', 'WY']\n",
      "[[0.86709722 0.55316745 0.58226751 ... 0.         0.         0.        ]\n",
      " [0.58385058 0.76989006 0.91102746 ... 0.         0.         0.        ]\n",
      " [0.60257518 0.90913272 1.         ... 0.         0.         0.        ]\n",
      " ...\n",
      " [0.         0.         0.         ... 0.         0.         0.        ]\n",
      " [0.         0.         0.         ... 0.         0.44221386 0.        ]\n",
      " [0.         0.         0.         ... 0.         0.         0.        ]]\n",
      "[119, 1289, 7482, 2627, 204, 916, 690, 8431, 981, 6338, 3929, 5994, 480, 1660, 18654, 1498, 18696, 1113, 75795, 4843, 1083, 3266, 1250, 523, 5237, 1327, 281, 565, 2239, 497, 415, 2159, 428, 6521, 937, 184, 126, 172, 2199, 108, 887, 1585, 109, 3128, 239, 303, 314, 489, 320, 162, 319]\n",
      "[['0.03204955561540533' '731,545']\n",
      " ['0.1347712597884325' '4,903,185']\n",
      " ['0.0806849737735267' '3,017,804']\n",
      " ['0.0665427701202829' '7,278,717']\n",
      " ['0.08634338864911026' '39,512,223']\n",
      " ['0.17098411871908356' '5,758,736']\n",
      " ['0.19360029708485485' '3,565,287']\n",
      " ['0.07945205479452055' '973,764']\n",
      " ['0.10257987246301752' '21,477,737']\n",
      " ['0.24281564798220134' '10,617,423']\n",
      " ['0.02351585014409222' '1,415,872']\n",
      " ['0.06729857819905213' '3,155,070']\n",
      " ['0.07265406162464987' '1,787,065']\n",
      " ['0.17016323633782826' '12,671,821']\n",
      " ['0.16144470201151573' '6,732,219']\n",
      " ['0.07890855457227139' '2,913,314']\n",
      " ['0.07048458149779736' '4,467,673']\n",
      " ['0.13439577078040393' '4,648,794']\n",
      " ['0.13885990502757609' '6,892,503']\n",
      " ['0.10043562439496612' '6,045,680']\n",
      " ['0.04741042090439681' '1,344,212']\n",
      " ['0.41464390504134435' '9,986,857']\n",
      " ['0.041920278248135094' '5,639,632']\n",
      " ['0.08324446396085565' '6,137,428']\n",
      " ['0.2094322753687975' '2,976,149']\n",
      " ['0.04164780443639656' '1,068,778']\n",
      " ['0.06483164546005367' '10,488,084']\n",
      " ['0.02959830866807611' '762,062']\n",
      " ['0.05528768884603021' '1,934,408']\n",
      " ['0.05421270718232044' '1,359,711']\n",
      " ['0.4084503965219671' '8,882,190']\n",
      " ['0.02243154785662968' '2,096,829']\n",
      " ['0.09437001865355266' '3,080,156']\n",
      " ['0.3693965475227355' '19,453,561']\n",
      " ['0.075331437771916' '11,689,100']\n",
      " ['0.3149386845039019' '3,956,971']\n",
      " ['0.049905974251410384' '4,217,737']\n",
      " ['0.11398512521182451' '12,801,989']\n",
      " ['0.10445804195804195' '3,193,694']\n",
      " ['0.12332912988650693' '1,059,361']\n",
      " ['0.1900333391823127' '5,148,714']\n",
      " ['0.029055690072639227' '884,659']\n",
      " ['0.08183479532163743' '6,829,174']\n",
      " ['0.07596762188314105' '28,995,881']\n",
      " ['0.04791227785880192' '3,205,958']\n",
      " ['0.09327662114767554' '8,535,519']\n",
      " ['0.07495900679315999' '623,989']\n",
      " ['0.09841481066442545' '7,614,893']\n",
      " ['0.08359704641350212' '5,822,434']\n",
      " ['0.0391020999275887' '1,792,147']\n",
      " ['0.051707779886148005' '578,759']]\n"
     ]
    }
   ],
   "source": [
    "from flight_network import A, X, y"
   ]
  },
  {
   "cell_type": "code",
   "execution_count": 16,
   "metadata": {},
   "outputs": [],
   "source": [
    "y = np.asarray(y)"
   ]
  },
  {
   "cell_type": "code",
   "execution_count": 19,
   "metadata": {},
   "outputs": [],
   "source": [
    "A = A.toarray()"
   ]
  },
  {
   "cell_type": "code",
   "execution_count": 4,
   "metadata": {},
   "outputs": [
    {
     "name": "stdout",
     "output_type": "stream",
     "text": [
      "2\n",
      "51\n"
     ]
    }
   ],
   "source": [
    "N = A.shape[0]\n",
    "F = X.shape[-1]\n",
    "print(F)\n",
    "print(N)"
   ]
  },
  {
   "cell_type": "code",
   "execution_count": 5,
   "metadata": {},
   "outputs": [
    {
     "name": "stdout",
     "output_type": "stream",
     "text": [
      "  (0, 0)\t0.29833528\n",
      "  (0, 1)\t0.040256154\n",
      "  (0, 2)\t0.042892493\n",
      "  (0, 3)\t0.041046966\n",
      "  (0, 4)\t0.069961645\n",
      "  (0, 5)\t0.044409126\n",
      "  (0, 6)\t0.06029821\n",
      "  (0, 7)\t0.06361265\n",
      "  (1, 0)\t0.042489085\n",
      "  (1, 1)\t0.05866241\n",
      "  (1, 2)\t0.030565264\n",
      "  (1, 3)\t0.02660967\n",
      "  (1, 4)\t0.036615588\n",
      "  (1, 5)\t0.027588077\n",
      "  (1, 6)\t0.033208955\n",
      "  (1, 7)\t0.029224338\n",
      "  (1, 8)\t0.024872273\n",
      "  (1, 9)\t0.023403753\n",
      "  (1, 10)\t0.023421882\n",
      "  (1, 11)\t0.025326136\n",
      "  (1, 12)\t0.029822795\n",
      "  (1, 13)\t0.025271103\n",
      "  (1, 14)\t0.025974683\n",
      "  (1, 15)\t0.024292968\n",
      "  (1, 16)\t0.026301082\n",
      "  :\t:\n",
      "  (47, 33)\t0.020500094\n",
      "  (47, 47)\t0.19199918\n",
      "  (48, 9)\t0.03295986\n",
      "  (48, 10)\t0.033200204\n",
      "  (48, 11)\t0.036728486\n",
      "  (48, 14)\t0.041714337\n",
      "  (48, 15)\t0.040953092\n",
      "  (48, 16)\t0.044272408\n",
      "  (48, 18)\t0.045962933\n",
      "  (48, 19)\t0.04336155\n",
      "  (48, 22)\t0.04473134\n",
      "  (48, 33)\t0.033435993\n",
      "  (48, 48)\t0.15269345\n",
      "  (49, 9)\t0.042971212\n",
      "  (49, 10)\t0.04098211\n",
      "  (49, 11)\t0.038739577\n",
      "  (49, 13)\t0.030731155\n",
      "  (49, 15)\t0.046122022\n",
      "  (49, 19)\t0.037134502\n",
      "  (49, 22)\t0.036214832\n",
      "  (49, 28)\t0.02990654\n",
      "  (49, 33)\t0.0069051427\n",
      "  (49, 38)\t0.02683722\n",
      "  (49, 49)\t0.24676399\n",
      "  (50, 50)\t1.0\n"
     ]
    }
   ],
   "source": [
    "A = GraphConv.preprocess(A).astype('f4')\n",
    "print(A)"
   ]
  },
  {
   "cell_type": "code",
   "execution_count": null,
   "metadata": {},
   "outputs": [],
   "source": []
  },
  {
   "cell_type": "code",
   "execution_count": 6,
   "metadata": {},
   "outputs": [],
   "source": [
    "X_in = Input(shape=(F, ))\n",
    "A_in = Input((N, ), sparse=True)\n",
    "\n",
    "X_1 = GraphConv(16, 'relu')([X_in, A_in])\n",
    "model = Model(inputs=[X_in, A_in], outputs=X_1)"
   ]
  },
  {
   "cell_type": "code",
   "execution_count": 8,
   "metadata": {},
   "outputs": [
    {
     "name": "stdout",
     "output_type": "stream",
     "text": [
      "Model: \"model\"\n",
      "__________________________________________________________________________________________________\n",
      "Layer (type)                    Output Shape         Param #     Connected to                     \n",
      "==================================================================================================\n",
      "input_1 (InputLayer)            [(None, 2)]          0                                            \n",
      "__________________________________________________________________________________________________\n",
      "input_2 (InputLayer)            [(None, None)]       0                                            \n",
      "__________________________________________________________________________________________________\n",
      "graph_conv (GraphConv)          (None, 16)           48          input_1[0][0]                    \n",
      "                                                                 input_2[0][0]                    \n",
      "==================================================================================================\n",
      "Total params: 48\n",
      "Trainable params: 48\n",
      "Non-trainable params: 0\n",
      "__________________________________________________________________________________________________\n"
     ]
    }
   ],
   "source": [
    "model.compile(optimizer='sgd',\n",
    "              loss= 'mse',\n",
    "              metrics=[\"mean_absolute_percentage_error\"])\n",
    "model.summary()"
   ]
  },
  {
   "cell_type": "code",
   "execution_count": 10,
   "metadata": {},
   "outputs": [],
   "source": [
    "A = A.astype('f4')"
   ]
  },
  {
   "cell_type": "code",
   "execution_count": 22,
   "metadata": {},
   "outputs": [
    {
     "ename": "ValueError",
     "evalue": "The two structures don't have the same nested structure.\n\nFirst structure: type=TensorSpec str=TensorSpec(shape=(51, 51), dtype=tf.float32, name=None)\n\nSecond structure: type=SparseTensor str=SparseTensor(indices=Tensor(\"input_2/indices:0\", shape=(None, 2), dtype=int64), values=Tensor(\"input_2/values:0\", shape=(None,), dtype=float32), dense_shape=Tensor(\"input_2/shape:0\", shape=(2,), dtype=int64))\n\nMore specifically: Substructure \"type=SparseTensor str=SparseTensor(indices=Tensor(\"input_2/indices:0\", shape=(None, 2), dtype=int64), values=Tensor(\"input_2/values:0\", shape=(None,), dtype=float32), dense_shape=Tensor(\"input_2/shape:0\", shape=(2,), dtype=int64))\" is a sequence, while substructure \"type=TensorSpec str=TensorSpec(shape=(51, 51), dtype=tf.float32, name=None)\" is not\nEntire first structure:\n.\nEntire second structure:\n.",
     "output_type": "error",
     "traceback": [
      "\u001b[0;31m---------------------------------------------------------------------------\u001b[0m",
      "\u001b[0;31mValueError\u001b[0m                                Traceback (most recent call last)",
      "\u001b[0;32m/anaconda3/lib/python3.6/site-packages/tensorflow_core/python/util/nest.py\u001b[0m in \u001b[0;36massert_same_structure\u001b[0;34m(nest1, nest2, check_types, expand_composites)\u001b[0m\n\u001b[1;32m    329\u001b[0m     _pywrap_utils.AssertSameStructure(nest1, nest2, check_types,\n\u001b[0;32m--> 330\u001b[0;31m                                       expand_composites)\n\u001b[0m\u001b[1;32m    331\u001b[0m   \u001b[0;32mexcept\u001b[0m \u001b[0;34m(\u001b[0m\u001b[0mValueError\u001b[0m\u001b[0;34m,\u001b[0m \u001b[0mTypeError\u001b[0m\u001b[0;34m)\u001b[0m \u001b[0;32mas\u001b[0m \u001b[0me\u001b[0m\u001b[0;34m:\u001b[0m\u001b[0;34m\u001b[0m\u001b[0m\n",
      "\u001b[0;31mValueError\u001b[0m: The two structures don't have the same nested structure.\n\nFirst structure: type=TensorSpec str=TensorSpec(shape=(51, 51), dtype=tf.float32, name=None)\n\nSecond structure: type=SparseTensor str=SparseTensor(indices=Tensor(\"input_2/indices:0\", shape=(None, 2), dtype=int64), values=Tensor(\"input_2/values:0\", shape=(None,), dtype=float32), dense_shape=Tensor(\"input_2/shape:0\", shape=(2,), dtype=int64))\n\nMore specifically: Substructure \"type=SparseTensor str=SparseTensor(indices=Tensor(\"input_2/indices:0\", shape=(None, 2), dtype=int64), values=Tensor(\"input_2/values:0\", shape=(None,), dtype=float32), dense_shape=Tensor(\"input_2/shape:0\", shape=(2,), dtype=int64))\" is a sequence, while substructure \"type=TensorSpec str=TensorSpec(shape=(51, 51), dtype=tf.float32, name=None)\" is not",
      "\nDuring handling of the above exception, another exception occurred:\n",
      "\u001b[0;31mValueError\u001b[0m                                Traceback (most recent call last)",
      "\u001b[0;32m<ipython-input-22-d8e9fb700b16>\u001b[0m in \u001b[0;36m<module>\u001b[0;34m()\u001b[0m\n\u001b[1;32m      2\u001b[0m           \u001b[0mvalidation_split\u001b[0m \u001b[0;34m=\u001b[0m \u001b[0;36m0.2\u001b[0m\u001b[0;34m,\u001b[0m\u001b[0;34m\u001b[0m\u001b[0m\n\u001b[1;32m      3\u001b[0m           \u001b[0mbatch_size\u001b[0m \u001b[0;34m=\u001b[0m \u001b[0mN\u001b[0m\u001b[0;34m,\u001b[0m\u001b[0;34m\u001b[0m\u001b[0m\n\u001b[0;32m----> 4\u001b[0;31m           shuffle=False)\n\u001b[0m",
      "\u001b[0;32m/anaconda3/lib/python3.6/site-packages/tensorflow_core/python/keras/engine/training.py\u001b[0m in \u001b[0;36mfit\u001b[0;34m(self, x, y, batch_size, epochs, verbose, callbacks, validation_split, validation_data, shuffle, class_weight, sample_weight, initial_epoch, steps_per_epoch, validation_steps, validation_freq, max_queue_size, workers, use_multiprocessing, **kwargs)\u001b[0m\n\u001b[1;32m    817\u001b[0m         \u001b[0mmax_queue_size\u001b[0m\u001b[0;34m=\u001b[0m\u001b[0mmax_queue_size\u001b[0m\u001b[0;34m,\u001b[0m\u001b[0;34m\u001b[0m\u001b[0m\n\u001b[1;32m    818\u001b[0m         \u001b[0mworkers\u001b[0m\u001b[0;34m=\u001b[0m\u001b[0mworkers\u001b[0m\u001b[0;34m,\u001b[0m\u001b[0;34m\u001b[0m\u001b[0m\n\u001b[0;32m--> 819\u001b[0;31m         use_multiprocessing=use_multiprocessing)\n\u001b[0m\u001b[1;32m    820\u001b[0m \u001b[0;34m\u001b[0m\u001b[0m\n\u001b[1;32m    821\u001b[0m   def evaluate(self,\n",
      "\u001b[0;32m/anaconda3/lib/python3.6/site-packages/tensorflow_core/python/keras/engine/training_v2.py\u001b[0m in \u001b[0;36mfit\u001b[0;34m(self, model, x, y, batch_size, epochs, verbose, callbacks, validation_split, validation_data, shuffle, class_weight, sample_weight, initial_epoch, steps_per_epoch, validation_steps, validation_freq, max_queue_size, workers, use_multiprocessing, **kwargs)\u001b[0m\n\u001b[1;32m    233\u001b[0m           \u001b[0mmax_queue_size\u001b[0m\u001b[0;34m=\u001b[0m\u001b[0mmax_queue_size\u001b[0m\u001b[0;34m,\u001b[0m\u001b[0;34m\u001b[0m\u001b[0m\n\u001b[1;32m    234\u001b[0m           \u001b[0mworkers\u001b[0m\u001b[0;34m=\u001b[0m\u001b[0mworkers\u001b[0m\u001b[0;34m,\u001b[0m\u001b[0;34m\u001b[0m\u001b[0m\n\u001b[0;32m--> 235\u001b[0;31m           use_multiprocessing=use_multiprocessing)\n\u001b[0m\u001b[1;32m    236\u001b[0m \u001b[0;34m\u001b[0m\u001b[0m\n\u001b[1;32m    237\u001b[0m       \u001b[0mtotal_samples\u001b[0m \u001b[0;34m=\u001b[0m \u001b[0m_get_total_number_of_samples\u001b[0m\u001b[0;34m(\u001b[0m\u001b[0mtraining_data_adapter\u001b[0m\u001b[0;34m)\u001b[0m\u001b[0;34m\u001b[0m\u001b[0m\n",
      "\u001b[0;32m/anaconda3/lib/python3.6/site-packages/tensorflow_core/python/keras/engine/training_v2.py\u001b[0m in \u001b[0;36m_process_training_inputs\u001b[0;34m(model, x, y, batch_size, epochs, sample_weights, class_weights, steps_per_epoch, validation_split, validation_data, validation_steps, shuffle, distribution_strategy, max_queue_size, workers, use_multiprocessing)\u001b[0m\n\u001b[1;32m    550\u001b[0m         \u001b[0mbatch_size\u001b[0m\u001b[0;34m=\u001b[0m\u001b[0mbatch_size\u001b[0m\u001b[0;34m,\u001b[0m\u001b[0;34m\u001b[0m\u001b[0m\n\u001b[1;32m    551\u001b[0m         \u001b[0mcheck_steps\u001b[0m\u001b[0;34m=\u001b[0m\u001b[0;32mFalse\u001b[0m\u001b[0;34m,\u001b[0m\u001b[0;34m\u001b[0m\u001b[0m\n\u001b[0;32m--> 552\u001b[0;31m         steps=steps_per_epoch)\n\u001b[0m\u001b[1;32m    553\u001b[0m     (x, y, sample_weights,\n\u001b[1;32m    554\u001b[0m      \u001b[0mval_x\u001b[0m\u001b[0;34m,\u001b[0m \u001b[0mval_y\u001b[0m\u001b[0;34m,\u001b[0m\u001b[0;34m\u001b[0m\u001b[0m\n",
      "\u001b[0;32m/anaconda3/lib/python3.6/site-packages/tensorflow_core/python/keras/engine/training.py\u001b[0m in \u001b[0;36m_standardize_user_data\u001b[0;34m(self, x, y, sample_weight, class_weight, batch_size, check_steps, steps_name, steps, validation_split, shuffle, extract_tensors_from_dataset)\u001b[0m\n\u001b[1;32m   2381\u001b[0m         \u001b[0mis_dataset\u001b[0m\u001b[0;34m=\u001b[0m\u001b[0mis_dataset\u001b[0m\u001b[0;34m,\u001b[0m\u001b[0;34m\u001b[0m\u001b[0m\n\u001b[1;32m   2382\u001b[0m         \u001b[0mclass_weight\u001b[0m\u001b[0;34m=\u001b[0m\u001b[0mclass_weight\u001b[0m\u001b[0;34m,\u001b[0m\u001b[0;34m\u001b[0m\u001b[0m\n\u001b[0;32m-> 2383\u001b[0;31m         batch_size=batch_size)\n\u001b[0m\u001b[1;32m   2384\u001b[0m \u001b[0;34m\u001b[0m\u001b[0m\n\u001b[1;32m   2385\u001b[0m   def _standardize_tensors(self, x, y, sample_weight, run_eagerly, dict_inputs,\n",
      "\u001b[0;32m/anaconda3/lib/python3.6/site-packages/tensorflow_core/python/keras/engine/training.py\u001b[0m in \u001b[0;36m_standardize_tensors\u001b[0;34m(self, x, y, sample_weight, run_eagerly, dict_inputs, is_dataset, class_weight, batch_size)\u001b[0m\n\u001b[1;32m   2445\u001b[0m     \u001b[0mflat_expected_inputs\u001b[0m \u001b[0;34m=\u001b[0m \u001b[0mnest\u001b[0m\u001b[0;34m.\u001b[0m\u001b[0mflatten\u001b[0m\u001b[0;34m(\u001b[0m\u001b[0mself\u001b[0m\u001b[0;34m.\u001b[0m\u001b[0minputs\u001b[0m\u001b[0;34m,\u001b[0m \u001b[0mexpand_composites\u001b[0m\u001b[0;34m=\u001b[0m\u001b[0;32mFalse\u001b[0m\u001b[0;34m)\u001b[0m\u001b[0;34m\u001b[0m\u001b[0m\n\u001b[1;32m   2446\u001b[0m     \u001b[0;32mfor\u001b[0m \u001b[0;34m(\u001b[0m\u001b[0ma\u001b[0m\u001b[0;34m,\u001b[0m \u001b[0mb\u001b[0m\u001b[0;34m)\u001b[0m \u001b[0;32min\u001b[0m \u001b[0mzip\u001b[0m\u001b[0;34m(\u001b[0m\u001b[0mflat_inputs\u001b[0m\u001b[0;34m,\u001b[0m \u001b[0mflat_expected_inputs\u001b[0m\u001b[0;34m)\u001b[0m\u001b[0;34m:\u001b[0m\u001b[0;34m\u001b[0m\u001b[0m\n\u001b[0;32m-> 2447\u001b[0;31m       \u001b[0mnest\u001b[0m\u001b[0;34m.\u001b[0m\u001b[0massert_same_structure\u001b[0m\u001b[0;34m(\u001b[0m\u001b[0ma\u001b[0m\u001b[0;34m,\u001b[0m \u001b[0mb\u001b[0m\u001b[0;34m,\u001b[0m \u001b[0mexpand_composites\u001b[0m\u001b[0;34m=\u001b[0m\u001b[0;32mTrue\u001b[0m\u001b[0;34m)\u001b[0m\u001b[0;34m\u001b[0m\u001b[0m\n\u001b[0m\u001b[1;32m   2448\u001b[0m \u001b[0;34m\u001b[0m\u001b[0m\n\u001b[1;32m   2449\u001b[0m     \u001b[0;32mif\u001b[0m \u001b[0my\u001b[0m \u001b[0;32mis\u001b[0m \u001b[0;32mnot\u001b[0m \u001b[0;32mNone\u001b[0m\u001b[0;34m:\u001b[0m\u001b[0;34m\u001b[0m\u001b[0m\n",
      "\u001b[0;32m/anaconda3/lib/python3.6/site-packages/tensorflow_core/python/util/nest.py\u001b[0m in \u001b[0;36massert_same_structure\u001b[0;34m(nest1, nest2, check_types, expand_composites)\u001b[0m\n\u001b[1;32m    335\u001b[0m                   \u001b[0;34m\"Entire first structure:\\n%s\\n\"\u001b[0m\u001b[0;34m\u001b[0m\u001b[0m\n\u001b[1;32m    336\u001b[0m                   \u001b[0;34m\"Entire second structure:\\n%s\"\u001b[0m\u001b[0;34m\u001b[0m\u001b[0m\n\u001b[0;32m--> 337\u001b[0;31m                   % (str(e), str1, str2))\n\u001b[0m\u001b[1;32m    338\u001b[0m \u001b[0;34m\u001b[0m\u001b[0m\n\u001b[1;32m    339\u001b[0m \u001b[0;34m\u001b[0m\u001b[0m\n",
      "\u001b[0;31mValueError\u001b[0m: The two structures don't have the same nested structure.\n\nFirst structure: type=TensorSpec str=TensorSpec(shape=(51, 51), dtype=tf.float32, name=None)\n\nSecond structure: type=SparseTensor str=SparseTensor(indices=Tensor(\"input_2/indices:0\", shape=(None, 2), dtype=int64), values=Tensor(\"input_2/values:0\", shape=(None,), dtype=float32), dense_shape=Tensor(\"input_2/shape:0\", shape=(2,), dtype=int64))\n\nMore specifically: Substructure \"type=SparseTensor str=SparseTensor(indices=Tensor(\"input_2/indices:0\", shape=(None, 2), dtype=int64), values=Tensor(\"input_2/values:0\", shape=(None,), dtype=float32), dense_shape=Tensor(\"input_2/shape:0\", shape=(2,), dtype=int64))\" is a sequence, while substructure \"type=TensorSpec str=TensorSpec(shape=(51, 51), dtype=tf.float32, name=None)\" is not\nEntire first structure:\n.\nEntire second structure:\n."
     ]
    }
   ],
   "source": [
    "model.fit([X, A], y,\n",
    "          validation_split = 0.2,\n",
    "          batch_size = N,\n",
    "          shuffle=False)"
   ]
  },
  {
   "cell_type": "code",
   "execution_count": null,
   "metadata": {},
   "outputs": [],
   "source": []
  }
 ],
 "metadata": {
  "kernelspec": {
   "display_name": "Python 3",
   "language": "python",
   "name": "python3"
  },
  "language_info": {
   "codemirror_mode": {
    "name": "ipython",
    "version": 3
   },
   "file_extension": ".py",
   "mimetype": "text/x-python",
   "name": "python",
   "nbconvert_exporter": "python",
   "pygments_lexer": "ipython3",
   "version": "3.6.4"
  }
 },
 "nbformat": 4,
 "nbformat_minor": 2
}
